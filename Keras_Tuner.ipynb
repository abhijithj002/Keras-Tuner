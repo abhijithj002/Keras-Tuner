{
 "cells": [
  {
   "cell_type": "code",
   "execution_count": 1,
   "id": "cdc88982-f6a2-4f90-b6ba-d48aeb4e3c9c",
   "metadata": {},
   "outputs": [],
   "source": [
    "import tensorflow as tf\n",
    "from tensorflow import keras\n",
    "import numpy as np"
   ]
  },
  {
   "cell_type": "code",
   "execution_count": 2,
   "id": "2eb4fe23-2725-45d8-a4ac-d15770df4949",
   "metadata": {},
   "outputs": [],
   "source": [
    "fashion_mnist=keras.datasets.fashion_mnist"
   ]
  },
  {
   "cell_type": "code",
   "execution_count": 3,
   "id": "7c243222-d34d-4196-8dc8-c00be952a362",
   "metadata": {},
   "outputs": [],
   "source": [
    "(train_images,train_labels),(test_images,test_labels)=fashion_mnist.load_data()"
   ]
  },
  {
   "cell_type": "code",
   "execution_count": 4,
   "id": "1e9588bf-4dac-4a71-a188-ff30ac7a16fe",
   "metadata": {},
   "outputs": [],
   "source": [
    "train_images=train_images/255.0\n",
    "test_images=test_images/255.0"
   ]
  },
  {
   "cell_type": "code",
   "execution_count": 5,
   "id": "8c89765b-eca5-49fc-9d2f-720e1a255cad",
   "metadata": {},
   "outputs": [],
   "source": [
    "train_images=train_images.reshape(len(train_images),28,28,1)\n",
    "test_images=test_images.reshape(len(test_images),28,28,1)"
   ]
  },
  {
   "cell_type": "code",
   "execution_count": 6,
   "id": "aa577274-f112-4b5b-83c7-ac99aa928c5e",
   "metadata": {},
   "outputs": [],
   "source": [
    "def build_model(hp):  \n",
    "  model = keras.Sequential([\n",
    "    keras.layers.Conv2D(\n",
    "        filters=hp.Int('conv_1_filter', min_value=32, max_value=128, step=16),\n",
    "        kernel_size=hp.Choice('conv_1_kernel', values = [3,5]),\n",
    "        activation='relu',\n",
    "        input_shape=(28,28,1)\n",
    "    ),\n",
    "    keras.layers.Conv2D(\n",
    "        filters=hp.Int('conv_2_filter', min_value=32, max_value=64, step=16),\n",
    "        kernel_size=hp.Choice('conv_2_kernel', values = [3,5]),\n",
    "        activation='relu'\n",
    "    ),\n",
    "    keras.layers.Flatten(),\n",
    "    keras.layers.Dense(\n",
    "        units=hp.Int('dense_1_units', min_value=32, max_value=128, step=16),\n",
    "        activation='relu'\n",
    "    ),\n",
    "    keras.layers.Dense(10, activation='softmax')\n",
    "  ])\n",
    "  \n",
    "  model.compile(optimizer=keras.optimizers.Adam(hp.Choice('learning_rate', values=[1e-2, 1e-3])),\n",
    "              loss='sparse_categorical_crossentropy',\n",
    "              metrics=['accuracy'])\n",
    "  \n",
    "  return model"
   ]
  },
  {
   "cell_type": "code",
   "execution_count": 9,
   "id": "e7403675-9b03-4fd1-81e3-f7aec28b4b22",
   "metadata": {},
   "outputs": [],
   "source": [
    "from keras_tuner import RandomSearch\n",
    "from keras_tuner.engine.hyperparameters import HyperParameters"
   ]
  },
  {
   "cell_type": "code",
   "execution_count": 10,
   "id": "71ea88ef-0d87-4542-a057-7ec5b97fcb81",
   "metadata": {},
   "outputs": [],
   "source": [
    "tuner_search=RandomSearch(build_model,\n",
    "                          objective='val_accuracy',\n",
    "                          max_trials=5,directory='output',project_name=\"Mnist Fashion\")"
   ]
  },
  {
   "cell_type": "code",
   "execution_count": 11,
   "id": "384cc36b-52a9-4c1b-a4b3-9f9cf62b0845",
   "metadata": {},
   "outputs": [
    {
     "name": "stdout",
     "output_type": "stream",
     "text": [
      "Trial 5 Complete [00h 07m 19s]\n",
      "val_accuracy: 0.9068333506584167\n",
      "\n",
      "Best val_accuracy So Far: 0.909166693687439\n",
      "Total elapsed time: 00h 44m 42s\n"
     ]
    }
   ],
   "source": [
    "tuner_search.search(train_images,train_labels,epochs=3,validation_split=0.1)"
   ]
  },
  {
   "cell_type": "code",
   "execution_count": 12,
   "id": "85ca5725-c6f4-4094-b21b-9e6143362696",
   "metadata": {},
   "outputs": [],
   "source": [
    "model=tuner_search.get_best_models(num_models=1)[0]"
   ]
  },
  {
   "cell_type": "code",
   "execution_count": 13,
   "id": "4b6527a2-7853-4770-98cd-dd8303ae2af4",
   "metadata": {},
   "outputs": [
    {
     "name": "stdout",
     "output_type": "stream",
     "text": [
      "Model: \"sequential\"\n",
      "_________________________________________________________________\n",
      " Layer (type)                Output Shape              Param #   \n",
      "=================================================================\n",
      " conv2d (Conv2D)             (None, 24, 24, 32)        832       \n",
      "                                                                 \n",
      " conv2d_1 (Conv2D)           (None, 20, 20, 32)        25632     \n",
      "                                                                 \n",
      " flatten (Flatten)           (None, 12800)             0         \n",
      "                                                                 \n",
      " dense (Dense)               (None, 96)                1228896   \n",
      "                                                                 \n",
      " dense_1 (Dense)             (None, 10)                970       \n",
      "                                                                 \n",
      "=================================================================\n",
      "Total params: 1256330 (4.79 MB)\n",
      "Trainable params: 1256330 (4.79 MB)\n",
      "Non-trainable params: 0 (0.00 Byte)\n",
      "_________________________________________________________________\n"
     ]
    }
   ],
   "source": [
    "model.summary()"
   ]
  },
  {
   "cell_type": "code",
   "execution_count": 14,
   "id": "47b4490d-5bc3-4bb5-8891-1fb395bbd3d7",
   "metadata": {},
   "outputs": [
    {
     "name": "stdout",
     "output_type": "stream",
     "text": [
      "Epoch 4/10\n",
      "1688/1688 [==============================] - 111s 65ms/step - loss: 0.1685 - accuracy: 0.9376 - val_loss: 0.2705 - val_accuracy: 0.9087\n",
      "Epoch 5/10\n",
      "1688/1688 [==============================] - 106s 63ms/step - loss: 0.1325 - accuracy: 0.9501 - val_loss: 0.2603 - val_accuracy: 0.9163\n",
      "Epoch 6/10\n",
      "1688/1688 [==============================] - 103s 61ms/step - loss: 0.1008 - accuracy: 0.9624 - val_loss: 0.2799 - val_accuracy: 0.9117\n",
      "Epoch 7/10\n",
      "1688/1688 [==============================] - 752s 446ms/step - loss: 0.0754 - accuracy: 0.9721 - val_loss: 0.3172 - val_accuracy: 0.9117\n",
      "Epoch 8/10\n",
      "1688/1688 [==============================] - 106s 63ms/step - loss: 0.0604 - accuracy: 0.9776 - val_loss: 0.3607 - val_accuracy: 0.9105\n",
      "Epoch 9/10\n",
      "1688/1688 [==============================] - 110s 65ms/step - loss: 0.0512 - accuracy: 0.9811 - val_loss: 0.3685 - val_accuracy: 0.9118\n",
      "Epoch 10/10\n",
      "1688/1688 [==============================] - 105s 62ms/step - loss: 0.0375 - accuracy: 0.9865 - val_loss: 0.4914 - val_accuracy: 0.9070\n"
     ]
    },
    {
     "data": {
      "text/plain": [
       "<keras.src.callbacks.History at 0x188f608a150>"
      ]
     },
     "execution_count": 14,
     "metadata": {},
     "output_type": "execute_result"
    }
   ],
   "source": [
    "model.fit(train_images, train_labels, epochs=10, validation_split=0.1, initial_epoch=3)"
   ]
  },
  {
   "cell_type": "code",
   "execution_count": null,
   "id": "549ee05d-f5ed-42d3-a0f8-f889a0a2e64b",
   "metadata": {},
   "outputs": [],
   "source": []
  }
 ],
 "metadata": {
  "kernelspec": {
   "display_name": "Python 3 (ipykernel)",
   "language": "python",
   "name": "python3"
  },
  "language_info": {
   "codemirror_mode": {
    "name": "ipython",
    "version": 3
   },
   "file_extension": ".py",
   "mimetype": "text/x-python",
   "name": "python",
   "nbconvert_exporter": "python",
   "pygments_lexer": "ipython3",
   "version": "3.11.7"
  }
 },
 "nbformat": 4,
 "nbformat_minor": 5
}
